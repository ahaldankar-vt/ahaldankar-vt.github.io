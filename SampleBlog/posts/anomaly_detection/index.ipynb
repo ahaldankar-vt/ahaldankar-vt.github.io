{
  "cells": [
    {
      "cell_type": "raw",
      "metadata": {},
      "source": [
        "---\n",
        "title: This is a blog post on anomaly detection.\n",
        "date: '2023-10-31'\n",
        "categories:\n",
        "  - Anomaly Detection\n",
        "description: 'This is a blog post on anomaly detection. Specifically, we will analyze the DBSCAN algorithm.'\n",
        "execute:\n",
        "  message: false\n",
        "  warning: false\n",
        "editor_options:\n",
        "  chunk_output_type: console\n",
        "---"
      ]
    }
  ],
  "metadata": {
    "kernelspec": {
      "name": "python3",
      "language": "python",
      "display_name": "Python 3 (ipykernel)"
    }
  },
  "nbformat": 4,
  "nbformat_minor": 4
}