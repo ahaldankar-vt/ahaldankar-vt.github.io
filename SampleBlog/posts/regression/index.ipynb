{
 "cells": [
  {
   "cell_type": "raw",
   "metadata": {},
   "source": [
    "---\n",
    "title: This is a blog post on regression.\n",
    "date: '2022-06-01'\n",
    "categories:\n",
    "  - '123'\n",
    "  - Second Tag\n",
    "description: This is a blog post on regression. I will use the Seaborn Diamonds dataset to predict the price of a diamond based on other features about it.\n",
    "execute:\n",
    "  message: false\n",
    "  warning: false\n",
    "editor_options:\n",
    "  chunk_output_type: console\n",
    "---"
   ]
  },
  {
   "cell_type": "markdown",
   "metadata": {},
   "source": [
    "In this blog post, I will use the Seaborn Diamonds dataset to predict the price of a diamond based on various features of that diamond, like color, cut, and depth. Through this exercise, I hope to learn which features of a diamond contribute most to its price. \n",
    "\n",
    "# Get and Examine the Data"
   ]
  },
  {
   "cell_type": "code",
   "execution_count": null,
   "metadata": {},
   "outputs": [],
   "source": [
    "import seaborn as sns\n",
    "import matplotlib.pyplot as plt\n",
    "import pandas as pd\n",
    "\n",
    "# sns.get_dataset_names()\n",
    "diamonds = sns.load_dataset('diamonds')\n",
    "diamonds.head()"
   ]
  },
  {
   "cell_type": "markdown",
   "metadata": {},
   "source": [
    "Let's examine the columns and their data types. We will also check for null and missing values. "
   ]
  },
  {
   "cell_type": "code",
   "execution_count": null,
   "metadata": {},
   "outputs": [],
   "source": [
    "diamonds.shape\n",
    "diamonds.info()"
   ]
  },
  {
   "cell_type": "code",
   "execution_count": null,
   "metadata": {},
   "outputs": [],
   "source": [
    "# Check for any null values. \n",
    "diamonds.isna().any().any()"
   ]
  },
  {
   "cell_type": "markdown",
   "metadata": {},
   "source": [
    "Looks like this dataset doesn't contain any null values, so we don't have to interpolate missing values. "
   ]
  },
  {
   "cell_type": "code",
   "execution_count": null,
   "metadata": {},
   "outputs": [],
   "source": [
    "# Let's find the minimum and maximum price for any individual diamond. \n",
    "[diamonds['price'].min(), diamonds['price'].max()]"
   ]
  },
  {
   "cell_type": "markdown",
   "metadata": {},
   "source": [
    "It appears the price of the diamonds is in a very large range. The price varies from a couple hundred dollars on the low-end to around $19K on the high end. Let's also examine the other quantitative variables, to ensure they are correct. "
   ]
  },
  {
   "cell_type": "code",
   "execution_count": null,
   "metadata": {
    "scrolled": true
   },
   "outputs": [],
   "source": [
    "[diamonds['carat'].min(), diamonds['carat'].max()]\n",
    "[diamonds['depth'].min(), diamonds['depth'].max()]\n",
    "[diamonds['table'].min(), diamonds['table'].max()]\n",
    "[diamonds['x'].min(), diamonds['x'].max()]"
   ]
  },
  {
   "cell_type": "markdown",
   "metadata": {},
   "source": [
    "So far, carat, depth, and table seem to have a reasonable range. However, the x-min is 0.0. It is not possible for the x-dimension of the diamond to be zero (otherwise it would be flat), so this seems suspicious. Let's see if the same problem appears for the y and z dimensions. "
   ]
  },
  {
   "cell_type": "code",
   "execution_count": null,
   "metadata": {},
   "outputs": [],
   "source": [
    "[diamonds['y'].min(), diamonds['z'].min()]"
   ]
  },
  {
   "cell_type": "markdown",
   "metadata": {},
   "source": [
    "Indeed, the y and z dimensions also have min values of 0. Let's remove these entries from the dataframe before we do any further processing. "
   ]
  },
  {
   "cell_type": "code",
   "execution_count": null,
   "metadata": {},
   "outputs": [],
   "source": [
    "diamonds = diamonds[(diamonds[['x', 'y', 'z']] != 0).all(axis=1)]\n",
    "diamonds.shape"
   ]
  },
  {
   "cell_type": "code",
   "execution_count": null,
   "metadata": {},
   "outputs": [],
   "source": [
    "# Print out the new minimum values for all three variables. \n",
    "[diamonds['x'].min(), diamonds['y'].min(), diamonds['z'].min()]"
   ]
  },
  {
   "cell_type": "markdown",
   "metadata": {},
   "source": [
    "These new minimum values look much better.  \n",
    "Let's now get a better sense for the price variability by plotting the diamond price via a histogram. "
   ]
  },
  {
   "cell_type": "code",
   "execution_count": null,
   "metadata": {},
   "outputs": [],
   "source": [
    "sns.histplot(data=diamonds, x=\"price\")"
   ]
  },
  {
   "cell_type": "markdown",
   "metadata": {},
   "source": [
    "This visualization gives us further insight into the price of the diamonds. It seems that most of the diamonds are on the low end, but there are a few very expensive diamonds.\n",
    "\n",
    "Now, let's identify which factors most affect a given diamond's price. First, let's identify what factor the diamond carat (weight) has on price. We can visualize this relationship through a scatterplot. "
   ]
  },
  {
   "cell_type": "code",
   "execution_count": null,
   "metadata": {},
   "outputs": [],
   "source": [
    "# TODO: Ask about this plot. \n",
    "sns.scatterplot(data=diamonds, x=\"carat\", y=\"price\", size=1, alpha=0.6, edgecolor=None)"
   ]
  },
  {
   "cell_type": "markdown",
   "metadata": {},
   "source": [
    "It seems there is a lot of noise that somewhat degrades the quality of the plot. There is a lot of variation in price, especially for smaller carat values. However, there appears to be a positive relationship between carat value and price. We may, however, need to combine the diamond's weight with other features of the diamond in order to help determine the price. \n",
    "\n",
    "Since the linear regression model will be easier to construct with quantitative variables, we will not include the following features of the diamond into our linear model. However, it may be worthwhile to see what impact they have on price. We can first examine how the diamond cut affects price through a bar chart. "
   ]
  },
  {
   "cell_type": "code",
   "execution_count": null,
   "metadata": {},
   "outputs": [],
   "source": [
    "sns.barplot(data=diamonds, x=\"cut\", y=\"price\")"
   ]
  },
  {
   "cell_type": "markdown",
   "metadata": {},
   "source": [
    "Interestingly, it appears that the quality of the cut doesn't have much to do with the price. In fact, ideal cuts appear to have the lowest aggregated price. \n",
    "\n",
    "Let's also examine if the color of the diamond is a good predictor of price. "
   ]
  },
  {
   "cell_type": "code",
   "execution_count": null,
   "metadata": {},
   "outputs": [],
   "source": [
    "sns.barplot(data=diamonds, x=\"color\", y=\"price\")"
   ]
  },
  {
   "cell_type": "markdown",
   "metadata": {},
   "source": [
    "Here, we see that as the color changes from D (worst) to J (best), the price tends to increase. \n",
    "\n",
    "# Constructing a Linear Model\n",
    "\n",
    "Now, we are ready to create a linear model, which will allow us to predict the price of a diamond given its carat, color, clarity, depth, etc. \n",
    "\n",
    "First, let's try to predict the price based on just its carat and depth. We can add more variables later, but let's keep it simple for now. We will begin by performing a train-test split. "
   ]
  },
  {
   "cell_type": "code",
   "execution_count": null,
   "metadata": {},
   "outputs": [],
   "source": [
    "from sklearn.model_selection import train_test_split\n",
    "X = diamonds[[\"carat\", \"depth\"]]\n",
    "y = diamonds['price']\n",
    "\n",
    "X_train1, X_test1, y_train1, y_test1 = train_test_split(X, y, test_size=0.10, random_state=42)"
   ]
  },
  {
   "cell_type": "code",
   "execution_count": null,
   "metadata": {},
   "outputs": [],
   "source": [
    "from sklearn.linear_model import LinearRegression\n",
    "lin_reg1 = LinearRegression().fit(X_train1, y_train1)\n",
    "lin_reg1.coef_,lin_reg1.intercept_"
   ]
  },
  {
   "cell_type": "markdown",
   "metadata": {},
   "source": [
    "It appears that a diamond's carat value has a strong positive correlation with the diamond's price, while the diamond depth has a negative correlation with price. Let's see how well this linear model predicts the price of samples in the test set. \n",
    "\n",
    "TODO: Add MSE metric"
   ]
  },
  {
   "cell_type": "code",
   "execution_count": null,
   "metadata": {},
   "outputs": [],
   "source": [
    "y_pred1 = lin_reg1.predict(X_test1)\n",
    "\n",
    "# Compute the R^2 score for the test set. \n",
    "lin_reg1.score(X_test1, y_test1)"
   ]
  },
  {
   "cell_type": "markdown",
   "metadata": {},
   "source": [
    "Our R^2 score is around 86%, which is pretty good. This metric indicates that most of the variability in the data can be explained by the model. \n",
    "\n",
    "Let's also construct a linear model using the diamond's dimensions (x, y, z) as the input variables and price as the output variable. "
   ]
  },
  {
   "cell_type": "code",
   "execution_count": null,
   "metadata": {},
   "outputs": [],
   "source": [
    "X = diamonds[['x', 'y', 'z']]\n",
    "y = diamonds['price']\n",
    "\n",
    "X_train2, X_test2, y_train2, y_test2 = train_test_split(X, y, test_size=0.10, random_state=42)\n",
    "\n",
    "lin_reg2 = LinearRegression().fit(X_train2, y_train2)\n",
    "lin_reg2.coef_, lin_reg2.intercept_"
   ]
  },
  {
   "cell_type": "markdown",
   "metadata": {},
   "source": [
    "As the dimensions of the diamond increase, its price also tends to increase. This makes intuitive sense, since larger diamonds are probably worth more than smaller diamonds.\n",
    "\n",
    "Below are the predictions for this second linear model. "
   ]
  },
  {
   "cell_type": "code",
   "execution_count": null,
   "metadata": {},
   "outputs": [],
   "source": [
    "y_pred2 = lin_reg2.predict(X_test2)\n",
    "lin_reg2.score(X_test2, y_test2)"
   ]
  },
  {
   "cell_type": "markdown",
   "metadata": {},
   "source": [
    "Again, we get an R^2 score of around 80%. It could be better, but it's certainly not bad. \n",
    "\n",
    "# Visualizations of Linear Model\n",
    "\n",
    "Now, I will present a few visualizations of the diamonds dataset. I will start by plotting the carat and depth values and observing how they affect price. "
   ]
  },
  {
   "cell_type": "code",
   "execution_count": null,
   "metadata": {},
   "outputs": [],
   "source": [
    "ax = sns.scatterplot(data=diamonds, x=\"carat\", y=\"depth\", hue=\"price\", size=\"price\")"
   ]
  },
  {
   "cell_type": "markdown",
   "metadata": {},
   "source": [
    "We can immediately see that as the diamond carat increases, the price tends to increase. This can be established due to the darker dots beginning from ~1 carat and extending until ~5 carats. The relationship between depth and price is less apparent. \n",
    "\n",
    "Now, let's visualize the relationship between the dimensions of the diamond (x, y, z) and price. We can begin by visualizing the price values between each pair of the diamond's dimensions (e.g. x vs. y, x vs. z, and y vs. z). "
   ]
  },
  {
   "cell_type": "code",
   "execution_count": null,
   "metadata": {
    "scrolled": true
   },
   "outputs": [],
   "source": [
    "ax = sns.scatterplot(data=diamonds, x=\"x\", y=\"y\", hue=\"price\", size=\"price\")\n",
    "ax.set_ylim(ymin=3,ymax=11);\n",
    "ax.set_xlim(xmin=3, xmax=11);"
   ]
  },
  {
   "cell_type": "code",
   "execution_count": null,
   "metadata": {
    "scrolled": true
   },
   "outputs": [],
   "source": [
    "ax = sns.scatterplot(data=diamonds, x=\"x\", y=\"z\", hue=\"price\", size=\"price\")\n",
    "ax.set_ylim(ymin=1, ymax=9);"
   ]
  },
  {
   "cell_type": "code",
   "execution_count": null,
   "metadata": {
    "scrolled": false
   },
   "outputs": [],
   "source": [
    "ax = sns.scatterplot(data=diamonds, x=\"y\", y=\"z\", hue=\"price\", size=\"price\")\n",
    "ax.set_xlim(xmin=3,xmax=12);\n",
    "ax.set_ylim(ymin=1,ymax=8);"
   ]
  },
  {
   "cell_type": "markdown",
   "metadata": {},
   "source": [
    "From the three plots above, it appears that as the dimensions of the diamond increase, the price tends to increase as well. Let's plot all three dimensions, along with price, to get a comprehensive view of how the dimensions affect price. "
   ]
  },
  {
   "cell_type": "code",
   "execution_count": null,
   "metadata": {},
   "outputs": [],
   "source": [
    "import matplotlib.pyplot as plt\n",
    "fig = plt.figure(figsize=(8,8))\n",
    "ax = fig.add_subplot(projection='3d')\n",
    "\n",
    "scatter = ax.scatter(diamonds['x'], diamonds['y'], diamonds['z'], marker='o', c=diamonds['price'])\n",
    "ax.set_xlabel('x')\n",
    "ax.set_ylabel('y')\n",
    "ax.set_zlabel('z')\n",
    "ax.set_zlim3d(zmax=5)\n",
    "fig.colorbar(scatter, label=\"Price\", orientation='horizontal')\n",
    "plt.show()"
   ]
  },
  {
   "cell_type": "markdown",
   "metadata": {},
   "source": [
    "The 3-D plot above supports our conclusion. \n",
    "\n",
    "# Constructing a Nonlinear Model\n",
    "\n",
    "Now let's try using a nonlinear model to predict the diamond price. We can focus on the DecisionTreeRegressor model. To avoid overfitting, let's set the max_depth for this tree to be 2.  "
   ]
  },
  {
   "cell_type": "code",
   "execution_count": null,
   "metadata": {},
   "outputs": [],
   "source": [
    "from sklearn.tree import DecisionTreeRegressor\n",
    "\n",
    "# First, split the data into a train set and a test set. \n",
    "X_train_nl, X_test_nl, y_train_nl, y_test_nl = train_test_split(X, y, test_size=0.10, random_state=42)\n",
    "\n",
    "# Construct the DecisionTreeRegressor model and fit the training data. \n",
    "tree_reg = DecisionTreeRegressor(max_depth=2, random_state=42)\n",
    "tree_reg.fit(X_train_nl, y_train_nl);"
   ]
  },
  {
   "cell_type": "markdown",
   "metadata": {},
   "source": [
    "Just like we did with our linear models, let's compute the score for our model and predict the data in the test set. "
   ]
  },
  {
   "cell_type": "code",
   "execution_count": null,
   "metadata": {},
   "outputs": [],
   "source": [
    "y_pred_nl = tree_reg.predict(X_test_nl)\n",
    "y_pred_nl"
   ]
  },
  {
   "cell_type": "code",
   "execution_count": null,
   "metadata": {},
   "outputs": [],
   "source": [
    "tree_reg.score(X_test_nl, y_test_nl)"
   ]
  },
  {
   "cell_type": "markdown",
   "metadata": {},
   "source": [
    "Our decision tree has an R^2 value of around 83%. It looks like it performs similarly to the linear models we previously constructed. \n",
    "\n",
    "TODO: Visualize Decision Tree Regressor model. \n",
    "\n",
    "Now, let's try visualizing our predictions against the true labels. We'll just focus on the first 100 data points in order to make our plot less noisy. "
   ]
  },
  {
   "cell_type": "code",
   "execution_count": null,
   "metadata": {},
   "outputs": [],
   "source": [
    "# ax = range(len(ytest))\n",
    "x_data = range(100)\n",
    "plt.plot(x_data, y_pred_nl[:100], label=\"predicted diamond price\")\n",
    "plt.plot(x_data, y_test_nl[:100], label=\"actual diamond price\")\n",
    "plt.title(\"actual diamond price and diamond price comparison\")\n",
    "plt.xlabel('price observation index')\n",
    "plt.ylabel('price value')\n",
    "plt.legend(loc='best',fancybox=True, shadow=True)\n",
    "plt.grid(True)\n",
    "plt.show()  "
   ]
  },
  {
   "cell_type": "markdown",
   "metadata": {},
   "source": [
    "It seems that the predicted prices are more or less in the same range as the actual prices. However, it appears that the predictions tend to underestimate the price of expensive diamonds. \n"
   ]
  },
  {
   "cell_type": "markdown",
   "metadata": {},
   "source": [
    "# Attributions"
   ]
  },
  {
   "cell_type": "markdown",
   "metadata": {},
   "source": [
    "1. https://www.educba.com/seaborn-datasets/\n",
    "2. https://www.kaggle.com/code/drvader/diamonds-dataset-exploration-and-regression\n",
    "3. https://github.com/Chinmayrane16/Diamonds-In-Depth-Analysis/blob/master/Diamonds.ipynb\n",
    "4. https://seaborn.pydata.org/generated/seaborn.scatterplot.html\n",
    "5. https://www.displayr.com/what-is-overplotting/\n",
    "6. https://www.geeksforgeeks.org/matplotlib-pyplot-colorbar-function-in-python/\n",
    "7. https://www.geeksforgeeks.org/3d-scatter-plotting-in-python-using-matplotlib/\n",
    "8. https://matplotlib.org/stable/gallery/mplot3d/scatter3d.html\n",
    "9. https://scikit-learn.org/stable/modules/generated/sklearn.linear_model.LinearRegression.html\n",
    "10. https://medium.com/the-code-monster/split-a-dataset-into-train-and-test-datasets-using-sk-learn-acc7fd1802e0\n",
    "11. https://corporatefinanceinstitute.com/resources/data-science/r-squared/\n",
    "12. https://scikit-learn.org/stable/modules/generated/sklearn.tree.DecisionTreeRegressor.html\n",
    "13. https://www.datatechnotes.com/2020/10/regression-example-with-decisiontreeregressor.html"
   ]
  }
 ],
 "metadata": {
  "kernelspec": {
   "display_name": "Python 3 (ipykernel)",
   "language": "python",
   "name": "python3"
  },
  "language_info": {
   "codemirror_mode": {
    "name": "ipython",
    "version": 3
   },
   "file_extension": ".py",
   "mimetype": "text/x-python",
   "name": "python",
   "nbconvert_exporter": "python",
   "pygments_lexer": "ipython3",
   "version": "3.9.7"
  },
  "varInspector": {
   "cols": {
    "lenName": 16,
    "lenType": 16,
    "lenVar": 40
   },
   "kernels_config": {
    "python": {
     "delete_cmd_postfix": "",
     "delete_cmd_prefix": "del ",
     "library": "var_list.py",
     "varRefreshCmd": "print(var_dic_list())"
    },
    "r": {
     "delete_cmd_postfix": ") ",
     "delete_cmd_prefix": "rm(",
     "library": "var_list.r",
     "varRefreshCmd": "cat(var_dic_list()) "
    }
   },
   "types_to_exclude": [
    "module",
    "function",
    "builtin_function_or_method",
    "instance",
    "_Feature"
   ],
   "window_display": false
  }
 },
 "nbformat": 4,
 "nbformat_minor": 4
}
