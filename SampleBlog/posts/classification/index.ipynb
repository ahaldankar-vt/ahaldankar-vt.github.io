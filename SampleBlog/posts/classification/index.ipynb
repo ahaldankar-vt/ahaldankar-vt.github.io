{
  "cells": [
    {
      "cell_type": "raw",
      "metadata": {},
      "source": [
        "---\n",
        "title: This is a blog post on classification\n",
        "date: '2022-10-21'\n",
        "categories:\n",
        "  - Classification\n",
        "description: 'This is a blog post on classification. Specifically, the SVM classifier is used.'\n",
        "execute:\n",
        "  message: false\n",
        "  warning: false\n",
        "editor_options:\n",
        "  chunk_output_type: console\n",
        "---"
      ]
    },
    {
      "cell_type": "markdown",
      "metadata": {},
      "source": [
        "# Get and examine data\n",
        "\n",
        "## Download data"
      ]
    },
    {
      "cell_type": "code",
      "metadata": {},
      "source": [
        "# Necessary data science packages\n",
        "import sys\n",
        "from packaging import version\n",
        "import sklearn\n",
        "import sklearn.datasets\n",
        "import pandas as pd\n",
        "import numpy as np\n",
        "\n",
        "wine_dataset = sklearn.datasets.load_wine()\n",
        "wine_df = pd.DataFrame(data=wine_dataset.data, columns=wine_dataset.feature_names)\n",
        "wine_df['labels'] = wine_dataset['target'] # Also add the labels associated with each sample\n",
        "\n",
        "# Added code - maybe take out. \n",
        "X, y = wine_dataset.data, wine_dataset.target\n",
        "X"
      ],
      "execution_count": null,
      "outputs": []
    },
    {
      "cell_type": "code",
      "metadata": {
        "scrolled": true
      },
      "source": [
        "X.shape"
      ],
      "execution_count": null,
      "outputs": []
    },
    {
      "cell_type": "code",
      "metadata": {},
      "source": [
        "y"
      ],
      "execution_count": null,
      "outputs": []
    },
    {
      "cell_type": "code",
      "metadata": {},
      "source": [
        "y.shape"
      ],
      "execution_count": null,
      "outputs": []
    },
    {
      "cell_type": "markdown",
      "metadata": {},
      "source": [
        "## Inspect the data"
      ]
    },
    {
      "cell_type": "code",
      "metadata": {},
      "source": [
        "# Display the head of the wine dataframe. \n",
        "wine_df.head()"
      ],
      "execution_count": null,
      "outputs": []
    },
    {
      "cell_type": "code",
      "metadata": {},
      "source": [
        "# Display column names and types\n",
        "wine_df.info()"
      ],
      "execution_count": null,
      "outputs": []
    },
    {
      "cell_type": "code",
      "metadata": {},
      "source": [
        "# Get the value counts for each different type of wine. \n",
        "wine_df['labels'].value_counts()"
      ],
      "execution_count": null,
      "outputs": []
    },
    {
      "cell_type": "markdown",
      "metadata": {},
      "source": [
        "It seems that the labels are roughly balanced, although wine type #1 is the most common. Now, let's do a train-test split. "
      ]
    },
    {
      "cell_type": "code",
      "metadata": {},
      "source": [
        "def shuffle_and_split_data(data, test_ratio):\n",
        "    shuffled_indices = np.random.permutation(len(data))\n",
        "    test_set_size = int(len(data) * test_ratio)\n",
        "    test_indices = shuffled_indices[:test_set_size]\n",
        "    train_indices = shuffled_indices[test_set_size:]\n",
        "    return data.iloc[train_indices], data.iloc[test_indices]"
      ],
      "execution_count": null,
      "outputs": []
    },
    {
      "cell_type": "code",
      "metadata": {},
      "source": [
        "train_set, test_set = shuffle_and_split_data(wine_df, 0.2)\n",
        "len(train_set)"
      ],
      "execution_count": null,
      "outputs": []
    },
    {
      "cell_type": "code",
      "metadata": {},
      "source": [
        "# Allows results of the notebook to be reproducible. \n",
        "np.random.seed(42)"
      ],
      "execution_count": null,
      "outputs": []
    },
    {
      "cell_type": "code",
      "metadata": {},
      "source": [
        "len(test_set)"
      ],
      "execution_count": null,
      "outputs": []
    },
    {
      "cell_type": "markdown",
      "metadata": {},
      "source": [
        "## Train Test Split"
      ]
    },
    {
      "cell_type": "code",
      "metadata": {},
      "source": [
        "from sklearn.model_selection import train_test_split\n",
        "X_train, X_test, y_train, y_test = train_test_split(X, y, test_size=0.33, random_state=42)"
      ],
      "execution_count": null,
      "outputs": []
    },
    {
      "cell_type": "code",
      "metadata": {},
      "source": [
        "X_train.shape\n",
        "X_test.shape\n",
        "y_train.shape\n",
        "y_test.shape"
      ],
      "execution_count": null,
      "outputs": []
    },
    {
      "cell_type": "markdown",
      "metadata": {},
      "source": [
        "## Training and Predictions\n",
        "\n",
        "We have successfully performed a train-test split with 143 samples in the training set and 35 samples in the test set.\n",
        "Since we are dealing with a small dataset for multi-class classification, it might be helpful to use the SVM classifier. "
      ]
    },
    {
      "cell_type": "code",
      "metadata": {},
      "source": [
        "from sklearn.svm import SVC\n",
        "\n",
        "# Instantiate and fit on the training set. \n",
        "svm_clf = SVC(random_state=42)\n",
        "svm_clf.fit(X_train, y_train)"
      ],
      "execution_count": null,
      "outputs": []
    },
    {
      "cell_type": "code",
      "metadata": {},
      "source": [
        "# Predict on the testing set. \n",
        "predictions = svm_clf.predict(X_test)"
      ],
      "execution_count": null,
      "outputs": []
    },
    {
      "cell_type": "code",
      "metadata": {},
      "source": [
        "# Now, let's evaluate the accuracy of the predictions. \n",
        "from sklearn.metrics import accuracy_score as accuracy\n",
        "round(accuracy(y_test, predictions), 2)"
      ],
      "execution_count": null,
      "outputs": []
    },
    {
      "cell_type": "markdown",
      "metadata": {},
      "source": [
        "We get an accuracy of around 71%. Let's plot our results in a confusion matrix. "
      ]
    },
    {
      "cell_type": "code",
      "metadata": {},
      "source": [
        "from sklearn import metrics\n",
        "from sklearn.metrics import ConfusionMatrixDisplay\n",
        "\n",
        "conf_matrix = metrics.confusion_matrix(y_test, predictions)\n",
        "cm = ConfusionMatrixDisplay(confusion_matrix=conf_matrix, display_labels=[0,1,2])\n",
        "cm.plot()"
      ],
      "execution_count": null,
      "outputs": []
    }
  ],
  "metadata": {
    "kernelspec": {
      "name": "python3",
      "language": "python",
      "display_name": "Python 3 (ipykernel)"
    }
  },
  "nbformat": 4,
  "nbformat_minor": 4
}