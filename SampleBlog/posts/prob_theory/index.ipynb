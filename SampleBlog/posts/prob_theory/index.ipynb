{
  "cells": [
    {
      "cell_type": "raw",
      "metadata": {},
      "source": [
        "---\n",
        "title: This is a blog post on probability theory and random variables.\n",
        "date: '2023-11-03'\n",
        "categories:\n",
        "  - 'Probability Theory, Random Variables, Naive Bayes'\n",
        "description: 'This is a blog post on probability theory. Specifically, the Naive Bayes classifier is used.'\n",
        "execute:\n",
        "  message: false\n",
        "  warning: false\n",
        "editor_options:\n",
        "  chunk_output_type: console\n",
        "---"
      ]
    }
  ],
  "metadata": {
    "kernelspec": {
      "name": "python3",
      "language": "python",
      "display_name": "Python 3 (ipykernel)"
    }
  },
  "nbformat": 4,
  "nbformat_minor": 4
}