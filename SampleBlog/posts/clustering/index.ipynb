{
  "cells": [
    {
      "cell_type": "raw",
      "metadata": {},
      "source": [
        "---\n",
        "title: This is a blog post on clustering\n",
        "date: '2022-10-29'\n",
        "categories:\n",
        "  - Clustering\n",
        "description: This is a blog post on clustering.\n",
        "execute:\n",
        "  message: false\n",
        "  warning: false\n",
        "editor_options:\n",
        "  chunk_output_type: console\n",
        "---"
      ]
    }
  ],
  "metadata": {
    "kernelspec": {
      "name": "python3",
      "language": "python",
      "display_name": "Python 3 (ipykernel)"
    }
  },
  "nbformat": 4,
  "nbformat_minor": 4
}