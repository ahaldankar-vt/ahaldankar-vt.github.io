{
  "cells": [
    {
      "cell_type": "raw",
      "metadata": {},
      "source": [
        "---\n",
        "title: This is a blog post on probability theory and random variables.\n",
        "date: '2023-11-03'\n",
        "categories:\n",
        "  - 'Probability Theory, Random Variables, Naive Bayes'\n",
        "description: 'This is a blog post on probability theory. Specifically, the Naive Bayes classifier is used.'\n",
        "execute:\n",
        "  message: false\n",
        "  warning: false\n",
        "editor_options:\n",
        "  chunk_output_type: console\n",
        "---"
      ]
    },
    {
      "cell_type": "markdown",
      "metadata": {},
      "source": [
        "In this blog post, we will investigate the Seaborn Attention dataset. Specifically, we will focus on using the Naive Bayes classifier to predict whether a test-taker is focused or not depending on their score. \n",
        "\n",
        "# Get and Examine the Data"
      ]
    },
    {
      "cell_type": "code",
      "metadata": {},
      "source": [
        "import seaborn as sns\n",
        "import matplotlib.pyplot as plt\n",
        "import pandas as pd\n",
        "\n",
        "sns.get_dataset_names()\n",
        "attention_raw = sns.load_dataset('attention')\n",
        "attention_raw.head()"
      ],
      "execution_count": null,
      "outputs": []
    },
    {
      "cell_type": "code",
      "metadata": {},
      "source": [
        "attention_raw.info()"
      ],
      "execution_count": null,
      "outputs": []
    },
    {
      "cell_type": "markdown",
      "metadata": {},
      "source": [
        "Let's drop the Unnamed column, since it will not help with our analysis. "
      ]
    },
    {
      "cell_type": "code",
      "metadata": {},
      "source": [
        "attention = attention_raw.drop(\"Unnamed: 0\", axis=1)\n",
        "attention.head()"
      ],
      "execution_count": null,
      "outputs": []
    },
    {
      "cell_type": "markdown",
      "metadata": {},
      "source": [
        "Let's explore the dataset and see if there are any missing/outlier values. "
      ]
    },
    {
      "cell_type": "code",
      "metadata": {},
      "source": [
        "attention.isna().any().any()"
      ],
      "execution_count": null,
      "outputs": []
    },
    {
      "cell_type": "code",
      "metadata": {},
      "source": [
        "attention.shape"
      ],
      "execution_count": null,
      "outputs": []
    },
    {
      "cell_type": "code",
      "metadata": {
        "scrolled": true
      },
      "source": [
        "[attention['subject'].min(), attention['subject'].max()]"
      ],
      "execution_count": null,
      "outputs": []
    },
    {
      "cell_type": "code",
      "metadata": {},
      "source": [
        "[attention['solutions'].min(), attention['solutions'].max()]"
      ],
      "execution_count": null,
      "outputs": []
    },
    {
      "cell_type": "code",
      "metadata": {},
      "source": [
        "[attention['score'].min(), attention['score'].max()]"
      ],
      "execution_count": null,
      "outputs": []
    },
    {
      "cell_type": "markdown",
      "metadata": {},
      "source": [
        "There are 20 subjects total, who were given 3 different tests. For each of these tests, the score of the subjects was computed. The minimum score across all tests was 2.0, while the maximum score was 9.0.\n",
        "\n",
        "# Visualizations\n",
        "\n",
        "Let's now visualize the attention dataset. We will first display a kde plot, that shows the probability distribution of the scores for the focused and divided groups. "
      ]
    },
    {
      "cell_type": "code",
      "metadata": {},
      "source": [
        "sns.displot(data=attention, x='score', kde=True, hue='attention', stat='density');"
      ],
      "execution_count": null,
      "outputs": []
    },
    {
      "cell_type": "markdown",
      "metadata": {},
      "source": [
        "As can be seen by this plot, the probability that a divided participant performed very well (i.e. got a score of 7 or higher) is substantially less than the probability that a focused user performed very well. Also, the probability that focused users performed poorly (i.e. got a score of 4 or lower) is substantially smaller than the probability that distracted users performed poorly. \n",
        "\n",
        "It appears that focused users, on average, received better scores than non-focused users. Let's try to better visualize this trend by plotting subjects and their corresponding scores, and color-coding whether the subject was focused or not. "
      ]
    },
    {
      "cell_type": "code",
      "metadata": {},
      "source": [
        "sns.barplot(data=attention, x='subject', y='score', hue='attention');"
      ],
      "execution_count": null,
      "outputs": []
    },
    {
      "cell_type": "markdown",
      "metadata": {},
      "source": [
        "It appears that, on average, focused subjects appeared to perform better than non-focused subjects. Let's confirm this hypothesis by computing the average scores for the divided and focused groups. "
      ]
    },
    {
      "cell_type": "code",
      "metadata": {},
      "source": [
        "avg_scores = pd.DataFrame(attention.groupby('attention').mean()['score'])\n",
        "avg_scores"
      ],
      "execution_count": null,
      "outputs": []
    },
    {
      "cell_type": "markdown",
      "metadata": {},
      "source": [
        "Indeed, we can see that the average score for divided users is around 5, while the average score for focused users is approximately 7. It appears that the average test score for focused users is about 2 points higher than that of distracted users.  \n",
        "\n",
        "\n",
        "# Naive Bayes Theory\n",
        "\n",
        "Before getting hands-on experience using the Naive Bayes Classifier, it will be useful to explain the theory underlying this classifier. \n",
        "\n",
        "Naive Bayes is based on Bayes' Rule, which can be stated as follows: \n",
        "\n",
        "$$\\huge{P(A|B) = \\frac{P(A) P(B|A)}{P(B)}}$$\n",
        "\n",
        "Where  \n",
        "P(A|B) is the probability that event A occurs given that event B has already occurred.  \n",
        "P(A) is the probability of event A occurring.  \n",
        "P(B|A) is the probability that event B occurs given that event A has already occurred.  \n",
        "P(B) is the probability of event B occurring. \n",
        "\n",
        "A Naive Bayes Classifier is designed to classify a given observation into one of several classes. In order to do so, the Naive Bayes Classifier relies heavily on Bayes theorem. Specifically, given a specific feature of the dataset, the Naive Bayes Classifier computes the probability of the observation falling into each of the different classes based on the value of the feature. Then, this classifier takes the highest such probability, and classifies the observation as falling into the class which matches with that largest probability. \n",
        "\n",
        "One important consideration is that the Naive Bayes classifier assumes that features are conditionally independent of one another. This means that when using multiple features in order to predict which class an observation falls into, the Naive Bayes Classifier assumes that none of the features depend on each other. \n",
        "\n",
        "# Naive Bayes Classifier\n",
        "\n",
        "Let's now use a Naive Bayes classifier to predict whether a participant is distracted or not based on their score. We can drop the other columns, since they won't be relevant. "
      ]
    },
    {
      "cell_type": "code",
      "metadata": {},
      "source": [
        "attention_nb = attention[['attention', 'score']]\n",
        "attention_nb.head()"
      ],
      "execution_count": null,
      "outputs": []
    },
    {
      "cell_type": "markdown",
      "metadata": {},
      "source": [
        "Next, perform a train-test split. Since the dataset is small, let's choose 80% of the samples to be in the training set and 20% of the samples to be in the test set. "
      ]
    },
    {
      "cell_type": "code",
      "metadata": {},
      "source": [
        "from sklearn.model_selection import train_test_split\n",
        "\n",
        "X = attention_nb[['score']]\n",
        "y = attention_nb['attention']\n",
        "\n",
        "X_train, X_test, y_train, y_test = train_test_split(X, y, test_size=0.20, random_state=42)"
      ],
      "execution_count": null,
      "outputs": []
    },
    {
      "cell_type": "code",
      "metadata": {},
      "source": [
        "X_train.shape\n",
        "X_test.shape\n",
        "y_train.shape\n",
        "y_test.shape"
      ],
      "execution_count": null,
      "outputs": []
    },
    {
      "cell_type": "markdown",
      "metadata": {},
      "source": [
        "Now, let's instantiate the model and fit the data to the model. We will use a Gaussian Naive Bayes classifier, which assumes that the distribution of continuous features is Gaussian. This appears to be a reasonable assumption in the case of the test scores. "
      ]
    },
    {
      "cell_type": "code",
      "metadata": {},
      "source": [
        "from sklearn.naive_bayes import GaussianNB\n",
        "\n",
        "nb_gauss = GaussianNB()\n",
        "nb_gauss.fit(X_train, y_train);"
      ],
      "execution_count": null,
      "outputs": []
    },
    {
      "cell_type": "markdown",
      "metadata": {},
      "source": [
        "Let's evaluate the accuracy on our testing set. "
      ]
    },
    {
      "cell_type": "code",
      "metadata": {},
      "source": [
        "predictions = nb_gauss.predict(X_test)"
      ],
      "execution_count": null,
      "outputs": []
    },
    {
      "cell_type": "code",
      "metadata": {},
      "source": [
        "from sklearn.metrics import accuracy_score as accuracy\n",
        "round(accuracy(y_test, predictions), 2)"
      ],
      "execution_count": null,
      "outputs": []
    },
    {
      "cell_type": "code",
      "metadata": {},
      "source": [
        "predictions"
      ],
      "execution_count": null,
      "outputs": []
    },
    {
      "cell_type": "markdown",
      "metadata": {},
      "source": [
        "75% is actually quite good, considering how few samples were used to train the model. We can plot a confusion matrix to get a better sense for which samples the model misclassified. "
      ]
    },
    {
      "cell_type": "code",
      "metadata": {},
      "source": [
        "from sklearn import metrics\n",
        "from sklearn.metrics import ConfusionMatrixDisplay\n",
        "\n",
        "labels_arr = ['divided', 'focused']\n",
        "conf_matrix = metrics.confusion_matrix(y_test, predictions, labels=labels_arr)\n",
        "cm = ConfusionMatrixDisplay(confusion_matrix=conf_matrix, display_labels=['divided', 'focused'])\n",
        "cm.plot();"
      ],
      "execution_count": null,
      "outputs": []
    },
    {
      "cell_type": "markdown",
      "metadata": {},
      "source": [
        "It appears that the Gaussian NB classifier over-predicted samples as being focused. The three samples in the upper right quadrant were predicted as being focused, but were in fact divided. \n",
        "\n",
        "# Attributions\n",
        "\n",
        "1. https://seaborn.pydata.org/generated/seaborn.barplot.html\n",
        "2. https://www.geeksforgeeks.org/python-pandas-dataframe-groupby/\n",
        "3. https://pandas.pydata.org/docs/reference/api/pandas.DataFrame.groupby.html\n",
        "4. https://scikit-learn.org/stable/modules/naive_bayes.html\n",
        "5. https://www.datacamp.com/tutorial/naive-bayes-scikit-learn\n",
        "6. https://corporatefinanceinstitute.com/resources/data-science/bayes-theorem/\n",
        "7. https://www.bayesrulesbook.com/chapter-14\n"
      ]
    }
  ],
  "metadata": {
    "kernelspec": {
      "name": "python3",
      "language": "python",
      "display_name": "Python 3 (ipykernel)"
    }
  },
  "nbformat": 4,
  "nbformat_minor": 4
}