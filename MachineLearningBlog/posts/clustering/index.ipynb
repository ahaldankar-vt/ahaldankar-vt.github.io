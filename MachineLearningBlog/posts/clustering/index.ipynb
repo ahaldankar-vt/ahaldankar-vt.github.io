{
  "cells": [
    {
      "cell_type": "raw",
      "metadata": {},
      "source": [
        "---\n",
        "title: This is a blog post on clustering\n",
        "date: '2023-10-29'\n",
        "categories:\n",
        "  - Clustering\n",
        "description: This is a blog post on clustering.\n",
        "execute:\n",
        "  message: false\n",
        "  warning: false\n",
        "editor_options:\n",
        "  chunk_output_type: console\n",
        "---"
      ]
    },
    {
      "cell_type": "markdown",
      "metadata": {},
      "source": [
        "In this blog post, I will use the Seaborn \"Car Crashes\" dataset in order to group similar states together and observe patterns with motor accidents in these states. \n",
        "\n",
        "# Get and Examine the Data"
      ]
    },
    {
      "cell_type": "code",
      "metadata": {},
      "source": [
        "import seaborn as sns\n",
        "import matplotlib.pyplot as plt\n",
        "import pandas as pd\n",
        "\n",
        "sns.get_dataset_names()\n",
        "crashes = sns.load_dataset('car_crashes')\n",
        "crashes.head()"
      ],
      "execution_count": null,
      "outputs": []
    },
    {
      "cell_type": "markdown",
      "metadata": {},
      "source": [
        "We see that this dataset contains various details about accidents, like whether the driver was speeding or intoxicated. There is also the abbrev column, which indicates the state in which the accident took place. "
      ]
    },
    {
      "cell_type": "code",
      "metadata": {},
      "source": [
        "crashes.shape\n",
        "crashes[crashes['abbrev'] == \"DC\"]"
      ],
      "execution_count": null,
      "outputs": []
    },
    {
      "cell_type": "markdown",
      "metadata": {},
      "source": [
        "The reason there are 51 rows is because the 50 states along with DC are included. Now, let's check for missing or invalid data. "
      ]
    },
    {
      "cell_type": "code",
      "metadata": {},
      "source": [
        "crashes.info()"
      ],
      "execution_count": null,
      "outputs": []
    },
    {
      "cell_type": "code",
      "metadata": {},
      "source": [
        "crashes.isna().any().any()"
      ],
      "execution_count": null,
      "outputs": []
    },
    {
      "cell_type": "markdown",
      "metadata": {},
      "source": [
        "Looks like there is no missing data. We can now perform a few checks on whether the data makes sense. "
      ]
    },
    {
      "cell_type": "code",
      "metadata": {},
      "source": [
        "crashes['total'].min()\n",
        "crashes['speeding'].min()\n",
        "crashes['alcohol'].min()\n",
        "crashes['not_distracted'].min()\n",
        "crashes['no_previous'].min()\n",
        "crashes['ins_premium'].min()\n",
        "crashes['ins_losses'].min()"
      ],
      "execution_count": null,
      "outputs": []
    },
    {
      "cell_type": "markdown",
      "metadata": {},
      "source": [
        "It looks like the data is valid, so we are good to proceed. Let's first visualize the total column for each of the states. To make the barplot less cluttered, let's focus on the 5 states with the highest number of crashes and the 5 states with the lowest number of crashes. "
      ]
    },
    {
      "cell_type": "code",
      "metadata": {},
      "source": [
        "crashes_sorted = crashes.sort_values('total', ascending=False)\n",
        "crashes_sorted\n",
        "fig, ax = plt.subplots(figsize=(10, 7))\n",
        "sns.barplot(data=crashes_sorted[:5], x='abbrev', y='total', ax=ax)\n",
        "\n",
        "plt.show()"
      ],
      "execution_count": null,
      "outputs": []
    },
    {
      "cell_type": "markdown",
      "metadata": {},
      "source": [
        "The states which have the highest number of crashes are South Carolina, North Dakota, West Virginia, Arkansas, and Kentucky. "
      ]
    },
    {
      "cell_type": "code",
      "metadata": {},
      "source": [
        "fig, ax = plt.subplots(figsize=(10, 7))\n",
        "sns.barplot(data=crashes_sorted[-5:], x='abbrev', y='total')\n",
        "\n",
        "plt.show()"
      ],
      "execution_count": null,
      "outputs": []
    },
    {
      "cell_type": "markdown",
      "metadata": {},
      "source": [
        "On the other end of the spectrum, Connecticut, Washington state, Minnesota, Massachussetts, and DC have the fewest crashes. \n",
        "\n",
        "# Dimensionality Reduction\n",
        "\n",
        "We have 7 columns in our dataset, not including the state abbreviation. With so many columns, it is hard to visualize how similar data points are to one another. Therefore, we will need to perform dimensionality reduction before we can visualize similarities between different data points. "
      ]
    },
    {
      "cell_type": "code",
      "metadata": {},
      "source": [
        "from sklearn.decomposition import PCA\n",
        "import pandas as pd\n",
        "\n",
        "pca = PCA(n_components=2)\n",
        "\n",
        "# Remove the abbreviation column, as it is not helpful in comparing data points. \n",
        "crashes_without_abbrev = crashes.set_index('abbrev')\n",
        "crashes_without_abbrev.loc[:, crashes_without_abbrev.columns != 'abbrev']\n",
        "crashes_without_abbrev\n",
        "\n",
        "crashes2D = pca.fit_transform(crashes_without_abbrev)\n",
        "crashes2D = pd.DataFrame(crashes2D, index=crashes_without_abbrev.index)\n",
        "pca.components_"
      ],
      "execution_count": null,
      "outputs": []
    },
    {
      "cell_type": "markdown",
      "metadata": {},
      "source": [
        "Now, let's see how much of the variance in the data is explained by the first 2 PCA dimensions. "
      ]
    },
    {
      "cell_type": "code",
      "metadata": {},
      "source": [
        "pca.explained_variance_ratio_"
      ],
      "execution_count": null,
      "outputs": []
    },
    {
      "cell_type": "markdown",
      "metadata": {},
      "source": [
        "The first component explains the vast majority of the variance (over 98%), while the second column explains almost all of the remaining variance. "
      ]
    },
    {
      "cell_type": "code",
      "metadata": {},
      "source": [
        "1 - pca.explained_variance_ratio_.sum()"
      ],
      "execution_count": null,
      "outputs": []
    },
    {
      "cell_type": "markdown",
      "metadata": {},
      "source": [
        "In fact, only around 0.17% of the variance is not explained by these first two components.  \n",
        "Now, let's visualize the data using a PCA plot. "
      ]
    },
    {
      "cell_type": "code",
      "metadata": {},
      "source": [
        "ax = crashes2D.plot.scatter(x=0, y=1, figsize=(10,7))\n",
        "for ind,row in crashes2D.iterrows():\n",
        "    ax.text(row[0], row[1], ind)\n",
        "ax.set_xlabel('PCA Component 1 (98.67%)');\n",
        "ax.set_ylabel('PCA Component 2 (1.16%)');\n",
        "\n",
        "# crashes2D\n",
        "# for idx, row in crashes2D_df.iterrows():\n",
        "#    print(idx)\n",
        "#    print(row)\n",
        "    # ax.annotate(row['label_var'], (row['x_var'], row['y_var']))"
      ],
      "execution_count": null,
      "outputs": []
    },
    {
      "cell_type": "markdown",
      "metadata": {},
      "source": [
        "The plot above labels the states and plots them according to the two principal components. Even though accident totals is just one dimension, we can see that West Virginia, Arkansas, and Kentucky, three of the states that had high totals, are in the same approximate area.  \n",
        "\n",
        "Now, let's cluster the states together, using the K-Means algorithm. First, let's try to find the optimal number of clusters. \n",
        "\n",
        "## Elbow Curve\n",
        "\n",
        "Let's draw an elbow curve to visualize how the inertia drops as the number of clusters increases. "
      ]
    },
    {
      "cell_type": "code",
      "metadata": {},
      "source": [
        "import matplotlib.pyplot as plt\n",
        "from sklearn.cluster import KMeans\n",
        "\n",
        "kmeans_per_k = [KMeans(n_clusters=k, random_state=42).fit(crashes_without_abbrev)\n",
        "                for k in range(1, 10)]\n",
        "inertias = [model.inertia_ for model in kmeans_per_k]\n",
        "plt.figure(figsize=(8, 3.5))\n",
        "plt.plot(range(1, 10), inertias, \"bo-\")\n",
        "plt.xlabel(\"$k$\");\n",
        "plt.ylabel(\"Inertia\");\n",
        "plt.grid()\n",
        "plt.show()\n",
        "# plt.annotate(\"\", xy=(4, inertias[3]), xytext=(4.45, 650),\n",
        "#              arrowprops=dict(facecolor='black', shrink=0.1))"
      ],
      "execution_count": null,
      "outputs": []
    },
    {
      "cell_type": "markdown",
      "metadata": {},
      "source": [
        "From this plot, it appears that in fact k=2 is the inflection point of the graph. Let's also construct a silhouette plot. "
      ]
    },
    {
      "cell_type": "code",
      "metadata": {},
      "source": [
        "from sklearn.metrics import silhouette_score\n",
        "silhouette_scores = [silhouette_score(crashes_without_abbrev, model.labels_)\n",
        "                     for model in kmeans_per_k[1:]]\n",
        "\n",
        "plt.figure(figsize=(8, 3))\n",
        "plt.plot(range(2, 10), silhouette_scores, \"bo-\")\n",
        "plt.xlabel(\"$k$\")\n",
        "plt.ylabel(\"Silhouette score\")\n",
        "\n",
        "plt.grid()\n",
        "plt.show()"
      ],
      "execution_count": null,
      "outputs": []
    },
    {
      "cell_type": "markdown",
      "metadata": {},
      "source": [
        "It appears that 2 clusters is the best choice according to both the elbow curve and the silhouette score. There doesn't appear to be a good reason to not choose 2 clusters, so let's proceed with the KMeans algorithm using 2 clusters.  "
      ]
    },
    {
      "cell_type": "code",
      "metadata": {},
      "source": [
        "kmeans = KMeans(n_clusters=2, random_state=42)\n",
        "y_pred = kmeans.fit_predict(crashes_without_abbrev)\n",
        "y_pred"
      ],
      "execution_count": null,
      "outputs": []
    },
    {
      "cell_type": "code",
      "metadata": {},
      "source": [
        "ax = crashes2D.plot.scatter(x=0, y=1, figsize=(10,7), c=y_pred, cmap='viridis', s=50)\n",
        "for ind,row in crashes2D.iterrows():\n",
        "    ax.text(row[0], row[1], ind)\n",
        "ax.set_xlabel('PCA Component 1 (98.67%)');\n",
        "ax.set_ylabel('PCA Component 2 (1.16%)');\n",
        "ax.axvline(x=85, color='r')"
      ],
      "execution_count": null,
      "outputs": []
    },
    {
      "cell_type": "markdown",
      "metadata": {},
      "source": [
        "From this plot, we can see a clear split along PC1. The vertical line on the plot separates the two clusters perfectly. We can see that states to the right of that line belong to one cluster and states to the left of the vertical line lie in the other cluster. Since PC1 explains over 98% of the variance, this approach would make sense.  \n",
        "\n",
        "# Attributions\n",
        "\n",
        "1. https://plainenglish.io/blog/9-seaborn-datasets-for-data-science-ml-beginners#3-car-crashes\n",
        "2. https://pandas.pydata.org/docs/reference/api/pandas.DataFrame.sort_values.html\n",
        "3. https://www.geeksforgeeks.org/how-to-set-a-seaborn-chart-figure-size/\n"
      ]
    }
  ],
  "metadata": {
    "kernelspec": {
      "name": "python3",
      "language": "python",
      "display_name": "Python 3 (ipykernel)"
    }
  },
  "nbformat": 4,
  "nbformat_minor": 4
}